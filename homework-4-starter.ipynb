{
 "cells": [
  {
   "cell_type": "markdown",
   "metadata": {},
   "source": [
    "## Homework 4\n",
    "\n",
    "Use this notebook as a starter"
   ]
  },
  {
   "cell_type": "code",
   "execution_count": 124,
   "metadata": {},
   "outputs": [],
   "source": [
    "import pandas as pd\n",
    "import numpy as np\n",
    "\n",
    "import matplotlib.pyplot as plt\n",
    "import seaborn as sns\n",
    "\n",
    "from sklearn.feature_extraction import DictVectorizer\n",
    "from sklearn.linear_model import LogisticRegression, LinearRegression\n",
    "from sklearn.model_selection import train_test_split, KFold\n",
    "from sklearn.metrics import roc_auc_score\n",
    "\n",
    "%matplotlib inline"
   ]
  },
  {
   "cell_type": "markdown",
   "metadata": {},
   "source": [
    "Data:\n",
    "\n",
    "- https://github.com/gastonstat/CreditScoring\n",
    "- Also available [here](https://raw.githubusercontent.com/alexeygrigorev/mlbookcamp-code/master/chapter-06-trees/CreditScoring.csv)"
   ]
  },
  {
   "cell_type": "markdown",
   "metadata": {},
   "source": [
    "## Preparation \n",
    "\n",
    "We'll talk about this dataset in more details in week 6. But for now, use the following code to get started"
   ]
  },
  {
   "cell_type": "code",
   "execution_count": 3,
   "metadata": {},
   "outputs": [],
   "source": [
    "df = pd.read_csv('CreditScoring.csv')\n",
    "df.columns = df.columns.str.lower()"
   ]
  },
  {
   "cell_type": "markdown",
   "metadata": {},
   "source": [
    "Some of the features are encoded as numbers. Use the following code to de-code them:"
   ]
  },
  {
   "cell_type": "code",
   "execution_count": 4,
   "metadata": {},
   "outputs": [],
   "source": [
    "status_values = {\n",
    "    1: 'ok',\n",
    "    2: 'default',\n",
    "    0: 'unk'\n",
    "}\n",
    "\n",
    "df.status = df.status.map(status_values)\n",
    "\n",
    "\n",
    "home_values = {\n",
    "    1: 'rent',\n",
    "    2: 'owner',\n",
    "    3: 'private',\n",
    "    4: 'ignore',\n",
    "    5: 'parents',\n",
    "    6: 'other',\n",
    "    0: 'unk'\n",
    "}\n",
    "\n",
    "df.home = df.home.map(home_values)\n",
    "\n",
    "marital_values = {\n",
    "    1: 'single',\n",
    "    2: 'married',\n",
    "    3: 'widow',\n",
    "    4: 'separated',\n",
    "    5: 'divorced',\n",
    "    0: 'unk'\n",
    "}\n",
    "\n",
    "df.marital = df.marital.map(marital_values)\n",
    "\n",
    "records_values = {\n",
    "    1: 'no',\n",
    "    2: 'yes',\n",
    "    0: 'unk'\n",
    "}\n",
    "\n",
    "df.records = df.records.map(records_values)\n",
    "\n",
    "job_values = {\n",
    "    1: 'fixed',\n",
    "    2: 'partime',\n",
    "    3: 'freelance',\n",
    "    4: 'others',\n",
    "    0: 'unk'\n",
    "}\n",
    "\n",
    "df.job = df.job.map(job_values)"
   ]
  },
  {
   "cell_type": "markdown",
   "metadata": {},
   "source": [
    "Prepare the numerical variables:"
   ]
  },
  {
   "cell_type": "code",
   "execution_count": 5,
   "metadata": {},
   "outputs": [],
   "source": [
    "for c in ['income', 'assets', 'debt']:\n",
    "    df[c] = df[c].replace(to_replace=99999999, value=0)"
   ]
  },
  {
   "cell_type": "markdown",
   "metadata": {},
   "source": [
    "Remove clients with unknown default status"
   ]
  },
  {
   "cell_type": "code",
   "execution_count": 6,
   "metadata": {},
   "outputs": [],
   "source": [
    "df = df[df.status != 'unk'].reset_index(drop=True)"
   ]
  },
  {
   "cell_type": "markdown",
   "metadata": {},
   "source": [
    "Create the target variable"
   ]
  },
  {
   "cell_type": "code",
   "execution_count": 7,
   "metadata": {},
   "outputs": [],
   "source": [
    "df['default'] = (df.status == 'default').astype(int)\n",
    "del df['status']"
   ]
  },
  {
   "cell_type": "markdown",
   "metadata": {},
   "source": [
    "## Your code"
   ]
  },
  {
   "cell_type": "code",
   "execution_count": 8,
   "metadata": {},
   "outputs": [
    {
     "data": {
      "text/html": [
       "<div>\n",
       "<style scoped>\n",
       "    .dataframe tbody tr th:only-of-type {\n",
       "        vertical-align: middle;\n",
       "    }\n",
       "\n",
       "    .dataframe tbody tr th {\n",
       "        vertical-align: top;\n",
       "    }\n",
       "\n",
       "    .dataframe thead th {\n",
       "        text-align: right;\n",
       "    }\n",
       "</style>\n",
       "<table border=\"1\" class=\"dataframe\">\n",
       "  <thead>\n",
       "    <tr style=\"text-align: right;\">\n",
       "      <th></th>\n",
       "      <th>seniority</th>\n",
       "      <th>home</th>\n",
       "      <th>time</th>\n",
       "      <th>age</th>\n",
       "      <th>marital</th>\n",
       "      <th>records</th>\n",
       "      <th>job</th>\n",
       "      <th>expenses</th>\n",
       "      <th>income</th>\n",
       "      <th>assets</th>\n",
       "      <th>debt</th>\n",
       "      <th>amount</th>\n",
       "      <th>price</th>\n",
       "      <th>default</th>\n",
       "    </tr>\n",
       "  </thead>\n",
       "  <tbody>\n",
       "    <tr>\n",
       "      <th>0</th>\n",
       "      <td>9</td>\n",
       "      <td>rent</td>\n",
       "      <td>60</td>\n",
       "      <td>30</td>\n",
       "      <td>married</td>\n",
       "      <td>no</td>\n",
       "      <td>freelance</td>\n",
       "      <td>73</td>\n",
       "      <td>129</td>\n",
       "      <td>0</td>\n",
       "      <td>0</td>\n",
       "      <td>800</td>\n",
       "      <td>846</td>\n",
       "      <td>0</td>\n",
       "    </tr>\n",
       "    <tr>\n",
       "      <th>1</th>\n",
       "      <td>17</td>\n",
       "      <td>rent</td>\n",
       "      <td>60</td>\n",
       "      <td>58</td>\n",
       "      <td>widow</td>\n",
       "      <td>no</td>\n",
       "      <td>fixed</td>\n",
       "      <td>48</td>\n",
       "      <td>131</td>\n",
       "      <td>0</td>\n",
       "      <td>0</td>\n",
       "      <td>1000</td>\n",
       "      <td>1658</td>\n",
       "      <td>0</td>\n",
       "    </tr>\n",
       "    <tr>\n",
       "      <th>2</th>\n",
       "      <td>10</td>\n",
       "      <td>owner</td>\n",
       "      <td>36</td>\n",
       "      <td>46</td>\n",
       "      <td>married</td>\n",
       "      <td>yes</td>\n",
       "      <td>freelance</td>\n",
       "      <td>90</td>\n",
       "      <td>200</td>\n",
       "      <td>3000</td>\n",
       "      <td>0</td>\n",
       "      <td>2000</td>\n",
       "      <td>2985</td>\n",
       "      <td>1</td>\n",
       "    </tr>\n",
       "    <tr>\n",
       "      <th>3</th>\n",
       "      <td>0</td>\n",
       "      <td>rent</td>\n",
       "      <td>60</td>\n",
       "      <td>24</td>\n",
       "      <td>single</td>\n",
       "      <td>no</td>\n",
       "      <td>fixed</td>\n",
       "      <td>63</td>\n",
       "      <td>182</td>\n",
       "      <td>2500</td>\n",
       "      <td>0</td>\n",
       "      <td>900</td>\n",
       "      <td>1325</td>\n",
       "      <td>0</td>\n",
       "    </tr>\n",
       "    <tr>\n",
       "      <th>4</th>\n",
       "      <td>0</td>\n",
       "      <td>rent</td>\n",
       "      <td>36</td>\n",
       "      <td>26</td>\n",
       "      <td>single</td>\n",
       "      <td>no</td>\n",
       "      <td>fixed</td>\n",
       "      <td>46</td>\n",
       "      <td>107</td>\n",
       "      <td>0</td>\n",
       "      <td>0</td>\n",
       "      <td>310</td>\n",
       "      <td>910</td>\n",
       "      <td>0</td>\n",
       "    </tr>\n",
       "  </tbody>\n",
       "</table>\n",
       "</div>"
      ],
      "text/plain": [
       "   seniority   home  time  age  marital records        job  expenses  income  \\\n",
       "0          9   rent    60   30  married      no  freelance        73     129   \n",
       "1         17   rent    60   58    widow      no      fixed        48     131   \n",
       "2         10  owner    36   46  married     yes  freelance        90     200   \n",
       "3          0   rent    60   24   single      no      fixed        63     182   \n",
       "4          0   rent    36   26   single      no      fixed        46     107   \n",
       "\n",
       "   assets  debt  amount  price  default  \n",
       "0       0     0     800    846        0  \n",
       "1       0     0    1000   1658        0  \n",
       "2    3000     0    2000   2985        1  \n",
       "3    2500     0     900   1325        0  \n",
       "4       0     0     310    910        0  "
      ]
     },
     "execution_count": 8,
     "metadata": {},
     "output_type": "execute_result"
    }
   ],
   "source": [
    "df.head()"
   ]
  },
  {
   "cell_type": "markdown",
   "metadata": {},
   "source": [
    "What are the categorical variables? What are the numerical?"
   ]
  },
  {
   "cell_type": "code",
   "execution_count": 9,
   "metadata": {},
   "outputs": [
    {
     "data": {
      "text/html": [
       "<div>\n",
       "<style scoped>\n",
       "    .dataframe tbody tr th:only-of-type {\n",
       "        vertical-align: middle;\n",
       "    }\n",
       "\n",
       "    .dataframe tbody tr th {\n",
       "        vertical-align: top;\n",
       "    }\n",
       "\n",
       "    .dataframe thead th {\n",
       "        text-align: right;\n",
       "    }\n",
       "</style>\n",
       "<table border=\"1\" class=\"dataframe\">\n",
       "  <thead>\n",
       "    <tr style=\"text-align: right;\">\n",
       "      <th></th>\n",
       "      <th>home</th>\n",
       "      <th>marital</th>\n",
       "      <th>records</th>\n",
       "      <th>job</th>\n",
       "    </tr>\n",
       "  </thead>\n",
       "  <tbody>\n",
       "    <tr>\n",
       "      <th>0</th>\n",
       "      <td>rent</td>\n",
       "      <td>married</td>\n",
       "      <td>no</td>\n",
       "      <td>freelance</td>\n",
       "    </tr>\n",
       "    <tr>\n",
       "      <th>1</th>\n",
       "      <td>rent</td>\n",
       "      <td>widow</td>\n",
       "      <td>no</td>\n",
       "      <td>fixed</td>\n",
       "    </tr>\n",
       "    <tr>\n",
       "      <th>2</th>\n",
       "      <td>owner</td>\n",
       "      <td>married</td>\n",
       "      <td>yes</td>\n",
       "      <td>freelance</td>\n",
       "    </tr>\n",
       "    <tr>\n",
       "      <th>3</th>\n",
       "      <td>rent</td>\n",
       "      <td>single</td>\n",
       "      <td>no</td>\n",
       "      <td>fixed</td>\n",
       "    </tr>\n",
       "    <tr>\n",
       "      <th>4</th>\n",
       "      <td>rent</td>\n",
       "      <td>single</td>\n",
       "      <td>no</td>\n",
       "      <td>fixed</td>\n",
       "    </tr>\n",
       "    <tr>\n",
       "      <th>...</th>\n",
       "      <td>...</td>\n",
       "      <td>...</td>\n",
       "      <td>...</td>\n",
       "      <td>...</td>\n",
       "    </tr>\n",
       "    <tr>\n",
       "      <th>4449</th>\n",
       "      <td>rent</td>\n",
       "      <td>married</td>\n",
       "      <td>no</td>\n",
       "      <td>fixed</td>\n",
       "    </tr>\n",
       "    <tr>\n",
       "      <th>4450</th>\n",
       "      <td>owner</td>\n",
       "      <td>married</td>\n",
       "      <td>no</td>\n",
       "      <td>fixed</td>\n",
       "    </tr>\n",
       "    <tr>\n",
       "      <th>4451</th>\n",
       "      <td>owner</td>\n",
       "      <td>married</td>\n",
       "      <td>no</td>\n",
       "      <td>partime</td>\n",
       "    </tr>\n",
       "    <tr>\n",
       "      <th>4452</th>\n",
       "      <td>rent</td>\n",
       "      <td>single</td>\n",
       "      <td>no</td>\n",
       "      <td>freelance</td>\n",
       "    </tr>\n",
       "    <tr>\n",
       "      <th>4453</th>\n",
       "      <td>owner</td>\n",
       "      <td>married</td>\n",
       "      <td>no</td>\n",
       "      <td>freelance</td>\n",
       "    </tr>\n",
       "  </tbody>\n",
       "</table>\n",
       "<p>4454 rows × 4 columns</p>\n",
       "</div>"
      ],
      "text/plain": [
       "       home  marital records        job\n",
       "0      rent  married      no  freelance\n",
       "1      rent    widow      no      fixed\n",
       "2     owner  married     yes  freelance\n",
       "3      rent   single      no      fixed\n",
       "4      rent   single      no      fixed\n",
       "...     ...      ...     ...        ...\n",
       "4449   rent  married      no      fixed\n",
       "4450  owner  married      no      fixed\n",
       "4451  owner  married      no    partime\n",
       "4452   rent   single      no  freelance\n",
       "4453  owner  married      no  freelance\n",
       "\n",
       "[4454 rows x 4 columns]"
      ]
     },
     "execution_count": 9,
     "metadata": {},
     "output_type": "execute_result"
    }
   ],
   "source": [
    "########## Categorical variables\n",
    "df.select_dtypes(['object'])"
   ]
  },
  {
   "cell_type": "code",
   "execution_count": 10,
   "metadata": {},
   "outputs": [
    {
     "data": {
      "text/html": [
       "<div>\n",
       "<style scoped>\n",
       "    .dataframe tbody tr th:only-of-type {\n",
       "        vertical-align: middle;\n",
       "    }\n",
       "\n",
       "    .dataframe tbody tr th {\n",
       "        vertical-align: top;\n",
       "    }\n",
       "\n",
       "    .dataframe thead th {\n",
       "        text-align: right;\n",
       "    }\n",
       "</style>\n",
       "<table border=\"1\" class=\"dataframe\">\n",
       "  <thead>\n",
       "    <tr style=\"text-align: right;\">\n",
       "      <th></th>\n",
       "      <th>seniority</th>\n",
       "      <th>time</th>\n",
       "      <th>age</th>\n",
       "      <th>expenses</th>\n",
       "      <th>income</th>\n",
       "      <th>assets</th>\n",
       "      <th>debt</th>\n",
       "      <th>amount</th>\n",
       "      <th>price</th>\n",
       "      <th>default</th>\n",
       "    </tr>\n",
       "  </thead>\n",
       "  <tbody>\n",
       "    <tr>\n",
       "      <th>0</th>\n",
       "      <td>9</td>\n",
       "      <td>60</td>\n",
       "      <td>30</td>\n",
       "      <td>73</td>\n",
       "      <td>129</td>\n",
       "      <td>0</td>\n",
       "      <td>0</td>\n",
       "      <td>800</td>\n",
       "      <td>846</td>\n",
       "      <td>0</td>\n",
       "    </tr>\n",
       "    <tr>\n",
       "      <th>1</th>\n",
       "      <td>17</td>\n",
       "      <td>60</td>\n",
       "      <td>58</td>\n",
       "      <td>48</td>\n",
       "      <td>131</td>\n",
       "      <td>0</td>\n",
       "      <td>0</td>\n",
       "      <td>1000</td>\n",
       "      <td>1658</td>\n",
       "      <td>0</td>\n",
       "    </tr>\n",
       "    <tr>\n",
       "      <th>2</th>\n",
       "      <td>10</td>\n",
       "      <td>36</td>\n",
       "      <td>46</td>\n",
       "      <td>90</td>\n",
       "      <td>200</td>\n",
       "      <td>3000</td>\n",
       "      <td>0</td>\n",
       "      <td>2000</td>\n",
       "      <td>2985</td>\n",
       "      <td>1</td>\n",
       "    </tr>\n",
       "    <tr>\n",
       "      <th>3</th>\n",
       "      <td>0</td>\n",
       "      <td>60</td>\n",
       "      <td>24</td>\n",
       "      <td>63</td>\n",
       "      <td>182</td>\n",
       "      <td>2500</td>\n",
       "      <td>0</td>\n",
       "      <td>900</td>\n",
       "      <td>1325</td>\n",
       "      <td>0</td>\n",
       "    </tr>\n",
       "    <tr>\n",
       "      <th>4</th>\n",
       "      <td>0</td>\n",
       "      <td>36</td>\n",
       "      <td>26</td>\n",
       "      <td>46</td>\n",
       "      <td>107</td>\n",
       "      <td>0</td>\n",
       "      <td>0</td>\n",
       "      <td>310</td>\n",
       "      <td>910</td>\n",
       "      <td>0</td>\n",
       "    </tr>\n",
       "    <tr>\n",
       "      <th>...</th>\n",
       "      <td>...</td>\n",
       "      <td>...</td>\n",
       "      <td>...</td>\n",
       "      <td>...</td>\n",
       "      <td>...</td>\n",
       "      <td>...</td>\n",
       "      <td>...</td>\n",
       "      <td>...</td>\n",
       "      <td>...</td>\n",
       "      <td>...</td>\n",
       "    </tr>\n",
       "    <tr>\n",
       "      <th>4449</th>\n",
       "      <td>1</td>\n",
       "      <td>60</td>\n",
       "      <td>39</td>\n",
       "      <td>69</td>\n",
       "      <td>92</td>\n",
       "      <td>0</td>\n",
       "      <td>0</td>\n",
       "      <td>900</td>\n",
       "      <td>1020</td>\n",
       "      <td>1</td>\n",
       "    </tr>\n",
       "    <tr>\n",
       "      <th>4450</th>\n",
       "      <td>22</td>\n",
       "      <td>60</td>\n",
       "      <td>46</td>\n",
       "      <td>60</td>\n",
       "      <td>75</td>\n",
       "      <td>3000</td>\n",
       "      <td>600</td>\n",
       "      <td>950</td>\n",
       "      <td>1263</td>\n",
       "      <td>0</td>\n",
       "    </tr>\n",
       "    <tr>\n",
       "      <th>4451</th>\n",
       "      <td>0</td>\n",
       "      <td>24</td>\n",
       "      <td>37</td>\n",
       "      <td>60</td>\n",
       "      <td>90</td>\n",
       "      <td>3500</td>\n",
       "      <td>0</td>\n",
       "      <td>500</td>\n",
       "      <td>963</td>\n",
       "      <td>1</td>\n",
       "    </tr>\n",
       "    <tr>\n",
       "      <th>4452</th>\n",
       "      <td>0</td>\n",
       "      <td>48</td>\n",
       "      <td>23</td>\n",
       "      <td>49</td>\n",
       "      <td>140</td>\n",
       "      <td>0</td>\n",
       "      <td>0</td>\n",
       "      <td>550</td>\n",
       "      <td>550</td>\n",
       "      <td>0</td>\n",
       "    </tr>\n",
       "    <tr>\n",
       "      <th>4453</th>\n",
       "      <td>5</td>\n",
       "      <td>60</td>\n",
       "      <td>32</td>\n",
       "      <td>60</td>\n",
       "      <td>140</td>\n",
       "      <td>4000</td>\n",
       "      <td>1000</td>\n",
       "      <td>1350</td>\n",
       "      <td>1650</td>\n",
       "      <td>0</td>\n",
       "    </tr>\n",
       "  </tbody>\n",
       "</table>\n",
       "<p>4454 rows × 10 columns</p>\n",
       "</div>"
      ],
      "text/plain": [
       "      seniority  time  age  expenses  income  assets  debt  amount  price  \\\n",
       "0             9    60   30        73     129       0     0     800    846   \n",
       "1            17    60   58        48     131       0     0    1000   1658   \n",
       "2            10    36   46        90     200    3000     0    2000   2985   \n",
       "3             0    60   24        63     182    2500     0     900   1325   \n",
       "4             0    36   26        46     107       0     0     310    910   \n",
       "...         ...   ...  ...       ...     ...     ...   ...     ...    ...   \n",
       "4449          1    60   39        69      92       0     0     900   1020   \n",
       "4450         22    60   46        60      75    3000   600     950   1263   \n",
       "4451          0    24   37        60      90    3500     0     500    963   \n",
       "4452          0    48   23        49     140       0     0     550    550   \n",
       "4453          5    60   32        60     140    4000  1000    1350   1650   \n",
       "\n",
       "      default  \n",
       "0           0  \n",
       "1           0  \n",
       "2           1  \n",
       "3           0  \n",
       "4           0  \n",
       "...       ...  \n",
       "4449        1  \n",
       "4450        0  \n",
       "4451        1  \n",
       "4452        0  \n",
       "4453        0  \n",
       "\n",
       "[4454 rows x 10 columns]"
      ]
     },
     "execution_count": 10,
     "metadata": {},
     "output_type": "execute_result"
    }
   ],
   "source": [
    "########## numerical variables\n",
    "df.select_dtypes(['int64','int32'])"
   ]
  },
  {
   "cell_type": "markdown",
   "metadata": {},
   "source": [
    "Split the data into 3 parts: train/validation/test with 60%/20%/20% distribution. Use `train_test_split` funciton for that with `random_state=1`"
   ]
  },
  {
   "cell_type": "code",
   "execution_count": 11,
   "metadata": {},
   "outputs": [],
   "source": [
    "df_train, df_test_valid = train_test_split(df, test_size=0.4,random_state=1)   ### 60% for training data\n",
    "df_valid, df_test = train_test_split(df_test_valid, test_size=0.5, random_state=1) ### 20% for validation and the other 20% for test set"
   ]
  },
  {
   "cell_type": "markdown",
   "metadata": {},
   "source": [
    "## Question 1\n",
    "\n",
    "ROC AUC could also be used to evaluate feature importance of numerical variables. \n",
    "\n",
    "Let's do that\n",
    "\n",
    "* For each numerical variable, use it as score and compute AUC with the \"default\" variable\n",
    "* Use the training dataset for that\n",
    "\n",
    "\n",
    "If your AUC is < 0.5, invert this variable by putting \"-\" in front\n",
    "\n",
    "(e.g. `-df_train['expenses']`)\n",
    "\n",
    "AUC can go below 0.5 if the variable is negatively correlated with the target varialble. You can change the direction of the correlation by negating this variable - then negative correlation becomes positive."
   ]
  },
  {
   "cell_type": "code",
   "execution_count": 12,
   "metadata": {},
   "outputs": [
    {
     "data": {
      "text/html": [
       "<div>\n",
       "<style scoped>\n",
       "    .dataframe tbody tr th:only-of-type {\n",
       "        vertical-align: middle;\n",
       "    }\n",
       "\n",
       "    .dataframe tbody tr th {\n",
       "        vertical-align: top;\n",
       "    }\n",
       "\n",
       "    .dataframe thead th {\n",
       "        text-align: right;\n",
       "    }\n",
       "</style>\n",
       "<table border=\"1\" class=\"dataframe\">\n",
       "  <thead>\n",
       "    <tr style=\"text-align: right;\">\n",
       "      <th></th>\n",
       "      <th>auc_score</th>\n",
       "    </tr>\n",
       "  </thead>\n",
       "  <tbody>\n",
       "    <tr>\n",
       "      <th>seniority</th>\n",
       "      <td>0.698955</td>\n",
       "    </tr>\n",
       "    <tr>\n",
       "      <th>income</th>\n",
       "      <td>0.671084</td>\n",
       "    </tr>\n",
       "    <tr>\n",
       "      <th>time</th>\n",
       "      <td>0.554744</td>\n",
       "    </tr>\n",
       "    <tr>\n",
       "      <th>debt</th>\n",
       "      <td>-0.497425</td>\n",
       "    </tr>\n",
       "  </tbody>\n",
       "</table>\n",
       "</div>"
      ],
      "text/plain": [
       "           auc_score\n",
       "seniority   0.698955\n",
       "income      0.671084\n",
       "time        0.554744\n",
       "debt       -0.497425"
      ]
     },
     "execution_count": 12,
     "metadata": {},
     "output_type": "execute_result"
    }
   ],
   "source": [
    "########## Create a model just for specific columns\n",
    "def predict_specific_model(x_column,y_column):\n",
    "    model = LogisticRegression()\n",
    "    x_train = df_train[x_column].values.reshape(-1,1)\n",
    "    y_train = df_train[y_column]\n",
    "    model.fit(x_train, y_train)\n",
    "    \n",
    "    y_pred = model.predict_proba(x_train)\n",
    "    y_pred = y_pred[:,1]\n",
    "    \n",
    "    return y_pred\n",
    "    \n",
    "    \n",
    "seniority_pred = predict_specific_model('seniority','default')\n",
    "seniority_auc_score = roc_auc_score(df_train.default, seniority_pred)\n",
    "\n",
    "time_pred = predict_specific_model('time','default')\n",
    "time_auc_score = roc_auc_score(df_train.default, time_pred)\n",
    "\n",
    "income_pred = predict_specific_model('income','default')\n",
    "income_auc_score = roc_auc_score(df_train.default, income_pred)\n",
    "\n",
    "debt_pred = predict_specific_model('debt', 'default')\n",
    "debt_auc_score = roc_auc_score(df_train.default, debt_pred)\n",
    "\n",
    "auc_dict = {\n",
    "    'seniority': seniority_auc_score,\n",
    "    'time': time_auc_score,\n",
    "    'income': income_auc_score,\n",
    "    'debt': debt_auc_score\n",
    "}\n",
    "\n",
    "## Replace AUC if it is less than half\n",
    "for index in auc_dict:\n",
    "    if auc_dict[index] < 0.5:\n",
    "        auc_dict[index] = -1 * auc_dict[index]\n",
    "\n",
    "auc_df = pd.DataFrame.from_dict(auc_dict, orient='index')\n",
    "auc_df = auc_df.rename(columns={\n",
    "    0: 'auc_score'\n",
    "})\n",
    "\n",
    "## Here it's shown that the first column 'seniority' is having the highest auc value\n",
    "auc_df = auc_df.sort_values(by = 'auc_score',ascending=False)\n",
    "auc_df"
   ]
  },
  {
   "cell_type": "markdown",
   "metadata": {},
   "source": [
    "Which numerical variable (among the following 4) has the highest AUC?\n",
    "\n",
    "- seniority\n",
    "- time\n",
    "- income\n",
    "- debt"
   ]
  },
  {
   "cell_type": "code",
   "execution_count": 13,
   "metadata": {},
   "outputs": [
    {
     "data": {
      "text/html": [
       "<div>\n",
       "<style scoped>\n",
       "    .dataframe tbody tr th:only-of-type {\n",
       "        vertical-align: middle;\n",
       "    }\n",
       "\n",
       "    .dataframe tbody tr th {\n",
       "        vertical-align: top;\n",
       "    }\n",
       "\n",
       "    .dataframe thead th {\n",
       "        text-align: right;\n",
       "    }\n",
       "</style>\n",
       "<table border=\"1\" class=\"dataframe\">\n",
       "  <thead>\n",
       "    <tr style=\"text-align: right;\">\n",
       "      <th></th>\n",
       "      <th>auc_score</th>\n",
       "    </tr>\n",
       "  </thead>\n",
       "  <tbody>\n",
       "    <tr>\n",
       "      <th>seniority</th>\n",
       "      <td>0.698955</td>\n",
       "    </tr>\n",
       "  </tbody>\n",
       "</table>\n",
       "</div>"
      ],
      "text/plain": [
       "           auc_score\n",
       "seniority   0.698955"
      ]
     },
     "execution_count": 13,
     "metadata": {},
     "output_type": "execute_result"
    }
   ],
   "source": [
    "auc_df.head(1)"
   ]
  },
  {
   "cell_type": "markdown",
   "metadata": {},
   "source": [
    "## Training the model\n",
    "\n",
    "From now on, use these columns only:\n",
    "\n",
    "```\n",
    "['seniority', 'income', 'assets', 'records', 'job', 'home']\n",
    "```\n",
    "\n",
    "Apply one-hot-encoding using `DictVectorizer` and train the logistic regression with these parameters:\n",
    "\n",
    "```\n",
    "LogisticRegression(solver='liblinear', C=1.0, max_iter=1000)\n",
    "```"
   ]
  },
  {
   "cell_type": "code",
   "execution_count": 125,
   "metadata": {},
   "outputs": [
    {
     "data": {
      "text/plain": [
       "LogisticRegression(max_iter=1000, solver='liblinear')"
      ]
     },
     "execution_count": 125,
     "metadata": {},
     "output_type": "execute_result"
    }
   ],
   "source": [
    "## Getting just the requested columns\n",
    "model_training_columns = ['seniority', 'income', 'assets', 'records', 'job', 'home']\n",
    "x_train = df_train[model_training_columns]\n",
    "x_validation = df_valid[model_training_columns]\n",
    "x_test = df_test[model_training_columns]\n",
    "\n",
    "## output values\n",
    "y_train = df_train.default\n",
    "y_valid = df_valid.default\n",
    "y_test = df_test.default\n",
    "\n",
    "## Applying One-hot encoding\n",
    "train_dict = x_train.to_dict(orient='records')\n",
    "dv = DictVectorizer(sparse=False)\n",
    "x_train = dv.fit_transform(train_dict)\n",
    "\n",
    "## create and train the model\n",
    "model = LogisticRegression(solver='liblinear',C=1.0, max_iter=1000)\n",
    "model.fit(x_train, y_train)\n",
    "\n"
   ]
  },
  {
   "cell_type": "markdown",
   "metadata": {},
   "source": [
    "## Question 2\n",
    "\n",
    "What's the AUC of this model on the validation dataset? (round to 3 digits)\n",
    "\n",
    "- 0.512\n",
    "- 0.612\n",
    "- 0.712\n",
    "- 0.812"
   ]
  },
  {
   "cell_type": "code",
   "execution_count": 15,
   "metadata": {},
   "outputs": [
    {
     "name": "stdout",
     "output_type": "stream",
     "text": [
      "AUC Score is:  0.799\n"
     ]
    }
   ],
   "source": [
    "## Pre-Process x validation datas\n",
    "\n",
    "x_valid_dict = x_validation.to_dict(orient='records')\n",
    "x_valid = dv.transform(x_valid_dict)\n",
    "\n",
    "## Predict values\n",
    "y_pred = model.predict_proba(x_valid)\n",
    "\n",
    "## Get the second column of the y_pred\n",
    "y_pred = y_pred[:,1]\n",
    "\n",
    "## Calculate the auc score\n",
    "model_auc_score = roc_auc_score(y_valid, y_pred)\n",
    "\n",
    "print('AUC Score is: ',round(model_auc_score,3))"
   ]
  },
  {
   "cell_type": "markdown",
   "metadata": {},
   "source": [
    "#### This shows it's near 0.812"
   ]
  },
  {
   "cell_type": "markdown",
   "metadata": {},
   "source": [
    "## Question 3\n",
    "\n",
    "Now let's compute precision and recall for our model.\n",
    "\n",
    "* Evaluate the model on all thresholds from 0.0 to 1.0 with step 0.01\n",
    "* For each threshold, compute precision and recall\n",
    "* Plot them"
   ]
  },
  {
   "cell_type": "code",
   "execution_count": 109,
   "metadata": {},
   "outputs": [
    {
     "data": {
      "image/png": "[encoded data removed]",
      "text/plain": [
       "<Figure size 720x360 with 1 Axes>"
      ]
     },
     "metadata": {
      "needs_background": "light"
     },
     "output_type": "display_data"
    }
   ],
   "source": [
    "## compute the precision and recall for every thresholds\n",
    "def evaluate_model(y_true, y_pred):\n",
    "    \n",
    "    thresholds = np.arange(0, 1, 0.01)\n",
    "    ## precision and recall for every threshold\n",
    "    precision_recall_arr = []\n",
    "    \n",
    "    for threshold in thresholds:\n",
    "        ## make the y_predict Boolean values \n",
    "        y_predict = y_pred > threshold\n",
    "        ## True Positive\n",
    "        TP = (y_predict & y_true).sum()\n",
    "\n",
    "        ## True Negative\n",
    "        TN = ((y_predict == 0) & (y_true == 0)).sum()\n",
    "\n",
    "        ## False Positive\n",
    "        FP = (y_pred & (y_true == 0)).sum()\n",
    "        \n",
    "        ## False Negative\n",
    "        FN = ((y_predict == 0) & y_true ).sum()\n",
    "\n",
    "        # For Debug\n",
    "#         confusion_matrix = [\n",
    "#             [TP, FP],\n",
    "#             [FN, TN]\n",
    "#         ]\n",
    "        precision = TP / (TP + FP)\n",
    "        recall = TP / ( TP + FN )\n",
    "        precision_recall_arr.append([precision, recall])\n",
    "    return precision_recall_arr\n",
    "\n",
    "values = evaluate_model(y_valid, y_pred)\n",
    "\n",
    "precision = np.array(values)[:,0]\n",
    "recall = np.array(values)[:,1]\n",
    "\n",
    "thresholds = np.arange(0, 1, 0.01)\n",
    "\n",
    "plt.figure(figsize=(10,5))\n",
    "plt.plot(thresholds, values)\n",
    "plt.legend(['precision', 'recall'])\n",
    "plt.grid(True)\n",
    "plt.xlabel('threshold')\n",
    "plt.ylabel('output valus')\n",
    "\n",
    "plt.show()"
   ]
  },
  {
   "cell_type": "markdown",
   "metadata": {},
   "source": [
    "At which threshold precision and recall curves intersect?\n",
    "\n",
    "* 0.2\n",
    "* 0.4\n",
    "* 0.6\n",
    "0.8"
   ]
  },
  {
   "cell_type": "markdown",
   "metadata": {},
   "source": [
    "## Question 4\n",
    "\n",
    "Precision and recall are conflicting - when one grows, the other goes down. That's why they are often combined into the F1 score - a metrics that takes into account both\n",
    "\n",
    "This is the formula for computing F1:\n",
    "\n",
    "$$F_1 = 2 \\cdot \\cfrac{P \\cdot R}{P + R}$$\n",
    "\n",
    "Where $P$ is precision and $R$ is recall.\n",
    "\n",
    "Let's compute F1 for all thresholds from 0.0 to 1.0 with increment 0.01"
   ]
  },
  {
   "cell_type": "code",
   "execution_count": 118,
   "metadata": {},
   "outputs": [
    {
     "name": "stderr",
     "output_type": "stream",
     "text": [
      "<ipython-input-118-a9c87e5fb256>:5: RuntimeWarning: invalid value encountered in double_scalars\n",
      "  F1 = (2 * indexed_precision * indexed_recall) / (indexed_precision + indexed_recall)\n"
     ]
    },
    {
     "data": {
      "text/plain": [
       "[0.46379310344827585,\n",
       " 0.462467644521139,\n",
       " 0.462467644521139,\n",
       " 0.461139896373057,\n",
       " 0.461139896373057,\n",
       " 0.45980985306828,\n",
       " 0.45714285714285713,\n",
       " 0.45714285714285713,\n",
       " 0.45312500000000006,\n",
       " 0.45312500000000006,\n",
       " 0.4504347826086957,\n",
       " 0.4477351916376307,\n",
       " 0.4354697102721686,\n",
       " 0.4313380281690141,\n",
       " 0.42579505300353354,\n",
       " 0.42300884955752205,\n",
       " 0.41740674955595025,\n",
       " 0.411764705882353,\n",
       " 0.40322580645161293,\n",
       " 0.400359066427289,\n",
       " 0.39314697926059516,\n",
       " 0.38440616500453306,\n",
       " 0.3814713896457766,\n",
       " 0.3755697356426618,\n",
       " 0.3726027397260274,\n",
       " 0.36663611365719523,\n",
       " 0.3651376146788991,\n",
       " 0.3576036866359447,\n",
       " 0.35000000000000003,\n",
       " 0.34386617100371747,\n",
       " 0.33923578751164957,\n",
       " 0.33768656716417916,\n",
       " 0.32989690721649484,\n",
       " 0.31090047393364934,\n",
       " 0.3044719314938154,\n",
       " 0.2979942693409742,\n",
       " 0.2914669223394056,\n",
       " 0.28488931665062556,\n",
       " 0.2799227799227799,\n",
       " 0.2765957446808511,\n",
       " 0.26653696498054474,\n",
       " 0.2614634146341463,\n",
       " 0.25806451612903225,\n",
       " 0.24950884086444008,\n",
       " 0.24778761061946905,\n",
       " 0.24606299212598426,\n",
       " 0.242603550295858,\n",
       " 0.23913043478260873,\n",
       " 0.23564356435643566,\n",
       " 0.23214285714285712,\n",
       " 0.21978021978021978,\n",
       " 0.2126379137412237,\n",
       " 0.20904522613065327,\n",
       " 0.20181634712411706,\n",
       " 0.19452887537993918,\n",
       " 0.1890243902439024,\n",
       " 0.1834862385321101,\n",
       " 0.17418032786885246,\n",
       " 0.16666666666666669,\n",
       " 0.15527950310559005,\n",
       " 0.15145228215767634,\n",
       " 0.14953271028037382,\n",
       " 0.14568158168574402,\n",
       " 0.1418143899895725,\n",
       " 0.13403141361256543,\n",
       " 0.120253164556962,\n",
       " 0.10828025477707005,\n",
       " 0.10626992561105207,\n",
       " 0.10223642172523963,\n",
       " 0.10021321961620469,\n",
       " 0.09411764705882353,\n",
       " 0.090032154340836,\n",
       " 0.090032154340836,\n",
       " 0.08592910848549946,\n",
       " 0.08180839612486546,\n",
       " 0.07766990291262135,\n",
       " 0.0755939524838013,\n",
       " 0.07142857142857142,\n",
       " 0.07142857142857142,\n",
       " 0.06514657980456026,\n",
       " 0.06304347826086956,\n",
       " 0.05882352941176471,\n",
       " 0.05670665212649946,\n",
       " 0.05458515283842795,\n",
       " 0.05458515283842795,\n",
       " 0.05245901639344262,\n",
       " 0.05032822757111597,\n",
       " 0.043907793633369926,\n",
       " 0.037444933920704845,\n",
       " 0.033112582781456956,\n",
       " 0.028761061946902654,\n",
       " 0.024390243902439025,\n",
       " 0.017797552836484983,\n",
       " 0.006711409395973153,\n",
       " 0.004479283314669653,\n",
       " 0.002242152466367713,\n",
       " 0.002242152466367713,\n",
       " -1,\n",
       " -1,\n",
       " -1]"
      ]
     },
     "execution_count": 118,
     "metadata": {},
     "output_type": "execute_result"
    }
   ],
   "source": [
    "F1_scores = []\n",
    "for index in range(100):\n",
    "    indexed_recall = recall[index]\n",
    "    indexed_precision = precision[index]\n",
    "    F1 = (2 * indexed_precision * indexed_recall) / (indexed_precision + indexed_recall)\n",
    "    if pd.isna(F1):\n",
    "        F1 = -1\n",
    "    F1_scores.append(F1)\n",
    "F1_scores"
   ]
  },
  {
   "cell_type": "markdown",
   "metadata": {},
   "source": [
    "At which threshold F1 is maximal?\n",
    "\n",
    "- 0.1\n",
    "- 0.3\n",
    "- 0.5\n",
    "- 0.7"
   ]
  },
  {
   "cell_type": "code",
   "execution_count": 121,
   "metadata": {},
   "outputs": [
    {
     "data": {
      "text/plain": [
       "0.0"
      ]
     },
     "execution_count": 121,
     "metadata": {},
     "output_type": "execute_result"
    }
   ],
   "source": [
    "## Get the maximal F1 Score and it's index\n",
    "max_F1 = np.array(F1_scores).max()\n",
    "index = F1_scores.index(max_F1)\n",
    "thresholds[index]"
   ]
  },
  {
   "cell_type": "markdown",
   "metadata": {},
   "source": [
    "<b>This Shows at threshold 0.0, F1 score is maxiaml<b>"
   ]
  },
  {
   "cell_type": "markdown",
   "metadata": {},
   "source": [
    "## Question 5\n",
    "\n",
    "\n",
    "Use the `KFold` class from Scikit-Learn to evaluate our model on 5 different folds:\n",
    "\n",
    "```\n",
    "KFold(n_splits=5, shuffle=True, random_state=1)\n",
    "```\n",
    "\n",
    "* Iterate over different folds of `df_full_train`\n",
    "* Split the data into train and validation\n",
    "* Train the model on train with these parameters: `LogisticRegression(solver='liblinear', C=1.0, max_iter=1000)`\n",
    "* Use AUC to evaluate the model on validation\n"
   ]
  },
  {
   "cell_type": "code",
   "execution_count": 132,
   "metadata": {},
   "outputs": [],
   "source": [
    "def train_model(df, y,C = 1.0):\n",
    "    df_dict = df.to_dict(orient='records')\n",
    "    dv = DictVectorizer(sparse=False)\n",
    "    X = dv.fit_transform(df_dict)\n",
    "    \n",
    "    model = LogisticRegression(solver='liblinear',C=C, max_iter=1000)\n",
    "    model.fit(X, y)\n",
    "    \n",
    "    return dv, model\n",
    "\n",
    "def predict(df, dv, model):\n",
    "    df_dict = df.to_dict(orient='records')\n",
    "    \n",
    "    x = dv.transform(df_dict)\n",
    "    y_pred = model.predict_proba(x)[:,1]\n",
    "    \n",
    "    return y_pred\n"
   ]
  },
  {
   "cell_type": "code",
   "execution_count": 133,
   "metadata": {},
   "outputs": [
    {
     "name": "stdout",
     "output_type": "stream",
     "text": [
      "AUC Scores:  [0.8101383949008698, 0.7902880498248345, 0.8387909544159544, 0.8318968672229542, 0.8167214750221697]\n",
      "auc: 0.818 ± 0.017\n"
     ]
    }
   ],
   "source": [
    "\n",
    "kfold = KFold(n_splits=5, shuffle=True, random_state=1)\n",
    "\n",
    "aucs = []\n",
    "for train_idx, valid_idx in kfold.split(df_train):\n",
    "    training_part = df_train.iloc[train_idx]\n",
    "    validation_part = df_train.iloc[valid_idx]\n",
    "    \n",
    "    X_training_part = training_part[model_training_columns]\n",
    "    X_validation_part = validation_part[model_training_columns]\n",
    "    \n",
    "    y_training_part = training_part.default\n",
    "    y_validation_part = validation_part.default\n",
    "    \n",
    "    dv, model = train_model(X_training_part, y_training_part)\n",
    "    y_prediction = predict(X_validation_part,dv, model)\n",
    "    \n",
    "    auc_score = roc_auc_score(y_validation_part, y_prediction)\n",
    "    aucs.append(auc_score)\n",
    "print('AUC Scores: ',aucs)\n",
    "print('auc: %0.3f ± %0.3f' % (np.mean(aucs), np.std(aucs)))"
   ]
  },
  {
   "cell_type": "markdown",
   "metadata": {},
   "source": [
    "How large is standard devidation of the scores across different folds?\n",
    "\n",
    "- 0.001\n",
    "- 0.014\n",
    "- 0.09\n",
    "- 0.14"
   ]
  },
  {
   "cell_type": "markdown",
   "metadata": {},
   "source": [
    "**It's actually 0.17**"
   ]
  },
  {
   "cell_type": "markdown",
   "metadata": {},
   "source": [
    "## Question 6\n",
    "\n",
    "Now let's use 5-Fold cross-validation to find the best parameter C\n",
    "\n",
    "* Iterate over the following C values: `[0.01, 0.1, 1, 10]`\n",
    "* Initialize `KFold` with the same parameters as previously\n",
    "* Use these parametes for the model: `LogisticRegression(solver='liblinear', C=C, max_iter=1000)`\n",
    "* Compute the mean score as well as the std (round the mean and std to 3 decimal digits)"
   ]
  },
  {
   "cell_type": "code",
   "execution_count": 136,
   "metadata": {},
   "outputs": [
    {
     "name": "stdout",
     "output_type": "stream",
     "text": [
      "auc= 0.807 ± 0.015 with C= 0.01\n",
      "auc= 0.817 ± 0.017 with C= 0.1\n",
      "auc= 0.818 ± 0.017 with C= 1\n",
      "auc= 0.818 ± 0.017 with C= 10\n"
     ]
    }
   ],
   "source": [
    "\n",
    "kfold = KFold(n_splits=5, shuffle=True, random_state=1)\n",
    "for c_value in [0.01, 0.1, 1, 10]:\n",
    "    aucs = []\n",
    "    for train_idx, valid_idx in kfold.split(df_train):\n",
    "        training_part = df_train.iloc[train_idx]\n",
    "        validation_part = df_train.iloc[valid_idx]\n",
    "\n",
    "        X_training_part = training_part[model_training_columns]\n",
    "        X_validation_part = validation_part[model_training_columns]\n",
    "\n",
    "        y_training_part = training_part.default\n",
    "        y_validation_part = validation_part.default\n",
    "\n",
    "        dv, model = train_model(X_training_part, y_training_part, C=c_value)\n",
    "        y_prediction = predict(X_validation_part,dv, model)\n",
    "\n",
    "        auc_score = roc_auc_score(y_validation_part, y_prediction)\n",
    "        aucs.append(auc_score)\n",
    "#     print('AUC Scores: ',aucs)\n",
    "    print('auc= %0.3f ± %0.3f with C=' % (np.mean(aucs), np.std(aucs)),c_value)"
   ]
  },
  {
   "cell_type": "markdown",
   "metadata": {},
   "source": [
    "Which C leads to the best mean score?\n",
    "\n",
    "- 0.01\n",
    "- 0.1\n",
    "- 1\n",
    "- 10\n",
    "\n",
    "If you have ties, select the score with the lowest std. If you still have ties, select the smallest C"
   ]
  },
  {
   "cell_type": "markdown",
   "metadata": {},
   "source": [
    "**As We can see C with value of 0.01 has the smallest standard deviation (0.015)**"
   ]
  },
  {
   "cell_type": "markdown",
   "metadata": {},
   "source": [
    "## Submit the results\n",
    "\n",
    "Submit your results here: https://forms.gle/e497sR5iB36mM9Cs5\n",
    "\n",
    "It's possible that your answers won't match exactly. If it's the case, select the closest one.\n",
    "\n",
    "## Deadline\n",
    "\n",
    "The deadline for submitting is 04 October 2021, 17:00 CET. After that, the form will be closed."
   ]
  },
  {
   "cell_type": "code",
   "execution_count": null,
   "metadata": {},
   "outputs": [],
   "source": []
  }
 ],
 "metadata": {
  "kernelspec": {
   "display_name": "Python 3",
   "language": "python",
   "name": "python3"
  },
  "language_info": {
   "codemirror_mode": {
    "name": "ipython",
    "version": 3
   },
   "file_extension": ".py",
   "mimetype": "text/x-python",
   "name": "python",
   "nbconvert_exporter": "python",
   "pygments_lexer": "ipython3",
   "version": "3.8.6"
  }
 },
 "nbformat": 4,
 "nbformat_minor": 4
}
